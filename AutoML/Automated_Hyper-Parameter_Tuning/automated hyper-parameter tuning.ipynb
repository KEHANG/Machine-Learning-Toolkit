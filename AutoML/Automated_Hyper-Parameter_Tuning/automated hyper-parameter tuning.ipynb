{
 "cells": [
  {
   "cell_type": "markdown",
   "metadata": {},
   "source": [
    "# Automated Hyper-Parameter Tuning"
   ]
  },
  {
   "cell_type": "code",
   "execution_count": null,
   "metadata": {},
   "outputs": [],
   "source": [
    "## tensorflow\n",
    "import tensorflow as tf\n",
    "\n",
    "## sklearn\n",
    "from sklearn.svm import SVC\n",
    "from sklearn import datasets\n",
    "from sklearn.metrics import mean_squared_error\n",
    "from sklearn.neighbors import KNeighborsClassifier\n",
    "from sklearn.model_selection import train_test_split\n",
    "\n",
    "## hyperopt\n",
    "from hyperopt import tpe, hp, fmin\n",
    "from hyperopt.mongoexp import MongoTrials\n",
    "\n",
    "## hyperas\n",
    "from hyperas import optim\n",
    "from hyperas.distributions import choice, uniform"
   ]
  },
  {
   "cell_type": "markdown",
   "metadata": {},
   "source": [
    "## 1. sklearn models"
   ]
  },
  {
   "cell_type": "markdown",
   "metadata": {},
   "source": [
    "### 1.1 single-machine tuning"
   ]
  },
  {
   "cell_type": "code",
   "execution_count": null,
   "metadata": {},
   "outputs": [],
   "source": [
    "iris = datasets.load_iris()\n",
    "x = iris.data\n",
    "y = iris.target\n",
    "x_train,x_test,y_train,y_test = train_test_split(x,y,test_size=0.2)"
   ]
  },
  {
   "cell_type": "code",
   "execution_count": null,
   "metadata": {},
   "outputs": [],
   "source": [
    "def objective_func(args):\n",
    "    if args['model']==KNeighborsClassifier:\n",
    "        n_neighbors = args['param']['n_neighbors']\n",
    "        algorithm = args['param']['algorithm']\n",
    "        leaf_size = args['param']['leaf_size']\n",
    "        metric = args['param']['metric']\n",
    "        clf = KNeighborsClassifier(n_neighbors=n_neighbors,\n",
    "                               algorithm=algorithm,\n",
    "                               leaf_size=leaf_size,\n",
    "                               metric=metric,\n",
    "                               )\n",
    "    elif args['model']==SVC:\n",
    "        C = args['param']['C']\n",
    "        kernel = args['param']['kernel']\n",
    "        degree = args['param']['degree']\n",
    "        gamma = args['param']['gamma']\n",
    "        clf = SVC(C=C, kernel=kernel, degree=degree,gamma=gamma)\n",
    "    \n",
    "    clf.fit(x_train,y_train)\n",
    "    y_pred_test = clf.predict(x_test)\n",
    "    loss = mean_squared_error(y_test,y_pred_test)\n",
    "    print(\"Test Score:\",clf.score(x_test,y_test))\n",
    "    print(\"Train Score:\",clf.score(x_train,y_train))\n",
    "    print(\"\\n=================\")\n",
    "    return loss"
   ]
  },
  {
   "cell_type": "code",
   "execution_count": null,
   "metadata": {
    "scrolled": true
   },
   "outputs": [],
   "source": [
    "space = hp.choice('classifier',[\n",
    "        {'model': KNeighborsClassifier,\n",
    "        'param': \n",
    "             {'n_neighbors':hp.choice('n_neighbors',range(3,11)),\n",
    "              'algorithm':hp.choice('algorithm',['ball_tree','kd_tree']),\n",
    "              'leaf_size':hp.choice('leaf_size',range(1,50)),\n",
    "              'metric':hp.choice('metric', [\"euclidean\",\"manhattan\", \"chebyshev\",\"minkowski\"])\n",
    "             }\n",
    "        },\n",
    "        {'model': SVC,\n",
    "        'param':\n",
    "         {'C':hp.lognormal('C',0,1),\n",
    "          'kernel':hp.choice('kernel',['rbf','poly','rbf','sigmoid']),\n",
    "          'degree':hp.choice('degree',range(1,15)),\n",
    "          'gamma':hp.uniform('gamma',0.001,10000)}\n",
    "        }\n",
    "        ])"
   ]
  },
  {
   "cell_type": "code",
   "execution_count": null,
   "metadata": {},
   "outputs": [],
   "source": [
    "best_classifier = fmin(objective_func,space,\n",
    "                        algo=tpe.suggest,max_evals=100)\n",
    "print(best_classifier)"
   ]
  },
  {
   "cell_type": "markdown",
   "metadata": {},
   "source": [
    "### 1.2 distributed tuning\n",
    "\n",
    "Distributed tuning is achived via MongoDB which acts as a job broker. The main program (this notebook) spawns training jobs with proposed set of hyper-parameters to MongoDB. On the other side, workers take jobs one by one and update training performance."
   ]
  },
  {
   "cell_type": "code",
   "execution_count": null,
   "metadata": {},
   "outputs": [],
   "source": [
    "trials = MongoTrials('mongo://localhost:27017/iris/jobs',\n",
    "                     exp_key='exp6')"
   ]
  },
  {
   "cell_type": "code",
   "execution_count": null,
   "metadata": {},
   "outputs": [],
   "source": [
    "best_classifier = fmin(objective_func,space,trials=trials,\n",
    "                        algo=tpe.suggest,max_evals=100)"
   ]
  },
  {
   "cell_type": "code",
   "execution_count": null,
   "metadata": {},
   "outputs": [],
   "source": [
    "print(best_classifier)"
   ]
  },
  {
   "cell_type": "markdown",
   "metadata": {},
   "source": [
    "## 2. tensorflow models"
   ]
  },
  {
   "cell_type": "markdown",
   "metadata": {},
   "source": [
    "### 2.1 single-machine tuning"
   ]
  },
  {
   "cell_type": "code",
   "execution_count": null,
   "metadata": {},
   "outputs": [],
   "source": [
    "mnist = tf.keras.datasets.mnist\n",
    "(x_train, y_train), (x_test, y_test) = mnist.load_data()\n",
    "x_train, x_test = x_train / 255.0, x_test / 255.0"
   ]
  },
  {
   "cell_type": "code",
   "execution_count": null,
   "metadata": {},
   "outputs": [],
   "source": [
    "def objective_func_tf(args):\n",
    "    \n",
    "    activ = args['activation']\n",
    "    dropout = args['dropout']\n",
    "    model = tf.keras.models.Sequential([\n",
    "      tf.keras.layers.Flatten(input_shape=(28, 28)),\n",
    "      tf.keras.layers.Dense(128, activation=activ),\n",
    "      tf.keras.layers.Dropout(dropout),\n",
    "      tf.keras.layers.Dense(10, activation='softmax')\n",
    "    ])\n",
    "    \n",
    "    model.compile(optimizer='adam',\n",
    "              loss='sparse_categorical_crossentropy',\n",
    "              metrics=['accuracy'])\n",
    "    \n",
    "    model.fit(x_train, y_train, epochs=5)\n",
    "    loss, accuracy = model.evaluate(x_test,  y_test, verbose=2)\n",
    "    print(\"Test Loss:\", loss)\n",
    "    print(\"Test accuracy:\", accuracy)\n",
    "    print(\"\\n=================\")\n",
    "    return loss"
   ]
  },
  {
   "cell_type": "code",
   "execution_count": null,
   "metadata": {},
   "outputs": [],
   "source": [
    "space_tf = {'activation': hp.choice('activation',['relu','sigmoid']),\n",
    "         'dropout': hp.uniform('dropout',0,1)\n",
    "        }"
   ]
  },
  {
   "cell_type": "code",
   "execution_count": null,
   "metadata": {},
   "outputs": [],
   "source": [
    "best_classifier = fmin(objective_func_tf, space_tf,\n",
    "                        algo=tpe.suggest,max_evals=10)"
   ]
  },
  {
   "cell_type": "code",
   "execution_count": null,
   "metadata": {},
   "outputs": [],
   "source": [
    "best_classifier"
   ]
  },
  {
   "cell_type": "markdown",
   "metadata": {},
   "source": [
    "### 2.2 distributed tuning\n",
    "\n",
    "MongoTrials doesn't work well with tensorflow neural network models. It often throws pickle errors. In order to run in distributed fashion, we need to use `hyperas` library. Everything works same on the main program side. On the worker side, we need to copy `temp_model.py` from main program folder over to worker folder."
   ]
  },
  {
   "cell_type": "code",
   "execution_count": null,
   "metadata": {},
   "outputs": [],
   "source": [
    "def data():\n",
    "    mnist = tf.keras.datasets.mnist\n",
    "    (x_train, y_train), (x_test, y_test) = mnist.load_data()\n",
    "    x_train, x_test = x_train / 255.0, x_test / 255.0\n",
    "    return x_train, y_train, x_test, y_test"
   ]
  },
  {
   "cell_type": "code",
   "execution_count": null,
   "metadata": {},
   "outputs": [],
   "source": [
    "def create_model(x_train, y_train, x_test, y_test):\n",
    "    \n",
    "    model = tf.keras.models.Sequential([\n",
    "      tf.keras.layers.Flatten(input_shape=(28, 28)),\n",
    "      tf.keras.layers.Dense(128, activation={{choice(['relu', 'sigmoid'])}}),\n",
    "      tf.keras.layers.Dropout({{uniform(0, 1)}}),\n",
    "      tf.keras.layers.Dense(10, activation='softmax')\n",
    "    ])\n",
    "    \n",
    "    model.compile(optimizer='adam',\n",
    "              loss='sparse_categorical_crossentropy',\n",
    "              metrics=['accuracy'])\n",
    "    \n",
    "    model.fit(x_train, y_train, epochs=5)\n",
    "    loss, accuracy = model.evaluate(x_test,  y_test, verbose=2)\n",
    "    print(\"Test Loss:\", loss)\n",
    "    print(\"Test accuracy:\", accuracy)\n",
    "    print(\"\\n=================\")\n",
    "    return loss"
   ]
  },
  {
   "cell_type": "code",
   "execution_count": null,
   "metadata": {},
   "outputs": [],
   "source": [
    "trials = MongoTrials('mongo://localhost:27017/tf_mnist/jobs',\n",
    "                     exp_key='exp2')\n",
    "best_run, best_model = optim.minimize(model=create_model,\n",
    "                                      data=data,\n",
    "                                      algo=tpe.suggest,\n",
    "                                      max_evals=10,\n",
    "                                      trials=trials,\n",
    "                                      notebook_name=\"tool1. try out hyperopt\",\n",
    "                                      keep_temp=True)"
   ]
  },
  {
   "cell_type": "code",
   "execution_count": null,
   "metadata": {},
   "outputs": [],
   "source": [
    "best_run"
   ]
  },
  {
   "cell_type": "code",
   "execution_count": null,
   "metadata": {},
   "outputs": [],
   "source": []
  }
 ],
 "metadata": {
  "kernelspec": {
   "display_name": "Python 3",
   "language": "python",
   "name": "python3"
  },
  "language_info": {
   "codemirror_mode": {
    "name": "ipython",
    "version": 3
   },
   "file_extension": ".py",
   "mimetype": "text/x-python",
   "name": "python",
   "nbconvert_exporter": "python",
   "pygments_lexer": "ipython3",
   "version": "3.7.6"
  }
 },
 "nbformat": 4,
 "nbformat_minor": 4
}
